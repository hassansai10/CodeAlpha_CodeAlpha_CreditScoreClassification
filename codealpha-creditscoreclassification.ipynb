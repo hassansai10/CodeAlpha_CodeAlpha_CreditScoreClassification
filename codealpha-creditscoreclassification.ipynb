{
 "cells": [
  {
   "cell_type": "code",
   "execution_count": 1,
   "id": "1d10ec8c",
   "metadata": {
    "_cell_guid": "b1076dfc-b9ad-4769-8c92-a6c4dae69d19",
    "_uuid": "8f2839f25d086af736a60e9eeb907d3b93b6e0e5",
    "execution": {
     "iopub.execute_input": "2025-08-29T00:07:31.333651Z",
     "iopub.status.busy": "2025-08-29T00:07:31.332778Z",
     "iopub.status.idle": "2025-08-29T00:07:33.310675Z",
     "shell.execute_reply": "2025-08-29T00:07:33.309794Z"
    },
    "papermill": {
     "duration": 1.985251,
     "end_time": "2025-08-29T00:07:33.312471",
     "exception": false,
     "start_time": "2025-08-29T00:07:31.327220",
     "status": "completed"
    },
    "tags": []
   },
   "outputs": [],
   "source": [
    "import pandas as pd\n",
    "import warnings\n",
    "warnings.filterwarnings(\"ignore\")"
   ]
  },
  {
   "cell_type": "code",
   "execution_count": 2,
   "id": "8b4934c8",
   "metadata": {
    "execution": {
     "iopub.execute_input": "2025-08-29T00:07:33.321437Z",
     "iopub.status.busy": "2025-08-29T00:07:33.320435Z",
     "iopub.status.idle": "2025-08-29T00:07:34.551417Z",
     "shell.execute_reply": "2025-08-29T00:07:34.550451Z"
    },
    "papermill": {
     "duration": 1.236945,
     "end_time": "2025-08-29T00:07:34.553220",
     "exception": false,
     "start_time": "2025-08-29T00:07:33.316275",
     "status": "completed"
    },
    "tags": []
   },
   "outputs": [],
   "source": [
    "df = pd.read_csv(\"/data/credit-score-classification/train.csv\")"
   ]
  },
  {
   "cell_type": "code",
   "execution_count": 3,
   "id": "bf94b66d",
   "metadata": {
    "execution": {
     "iopub.execute_input": "2025-08-29T00:07:34.562806Z",
     "iopub.status.busy": "2025-08-29T00:07:34.562479Z",
     "iopub.status.idle": "2025-08-29T00:07:34.597978Z",
     "shell.execute_reply": "2025-08-29T00:07:34.596981Z"
    },
    "papermill": {
     "duration": 0.041512,
     "end_time": "2025-08-29T00:07:34.599590",
     "exception": false,
     "start_time": "2025-08-29T00:07:34.558078",
     "status": "completed"
    },
    "tags": []
   },
   "outputs": [],
   "source": [
    "df = df.drop(columns=[\"ID\",\"Customer_ID\",\"Name\",\"Month\",\"SSN\"])"
   ]
  },
  {
   "cell_type": "code",
   "execution_count": 4,
   "id": "bd21d019",
   "metadata": {
    "execution": {
     "iopub.execute_input": "2025-08-29T00:07:34.607968Z",
     "iopub.status.busy": "2025-08-29T00:07:34.607656Z",
     "iopub.status.idle": "2025-08-29T00:07:34.703793Z",
     "shell.execute_reply": "2025-08-29T00:07:34.702978Z"
    },
    "papermill": {
     "duration": 0.102252,
     "end_time": "2025-08-29T00:07:34.705492",
     "exception": false,
     "start_time": "2025-08-29T00:07:34.603240",
     "status": "completed"
    },
    "tags": []
   },
   "outputs": [],
   "source": [
    "df = df.dropna()"
   ]
  },
  {
   "cell_type": "code",
   "execution_count": 5,
   "id": "67eacb20",
   "metadata": {
    "execution": {
     "iopub.execute_input": "2025-08-29T00:07:34.714291Z",
     "iopub.status.busy": "2025-08-29T00:07:34.713561Z",
     "iopub.status.idle": "2025-08-29T00:07:34.779252Z",
     "shell.execute_reply": "2025-08-29T00:07:34.778291Z"
    },
    "papermill": {
     "duration": 0.071526,
     "end_time": "2025-08-29T00:07:34.780698",
     "exception": false,
     "start_time": "2025-08-29T00:07:34.709172",
     "status": "completed"
    },
    "tags": []
   },
   "outputs": [
    {
     "data": {
      "text/html": [
       "<div>\n",
       "<style scoped>\n",
       "    .dataframe tbody tr th:only-of-type {\n",
       "        vertical-align: middle;\n",
       "    }\n",
       "\n",
       "    .dataframe tbody tr th {\n",
       "        vertical-align: top;\n",
       "    }\n",
       "\n",
       "    .dataframe thead th {\n",
       "        text-align: right;\n",
       "    }\n",
       "</style>\n",
       "<table border=\"1\" class=\"dataframe\">\n",
       "  <thead>\n",
       "    <tr style=\"text-align: right;\">\n",
       "      <th></th>\n",
       "      <th>Age</th>\n",
       "      <th>Occupation</th>\n",
       "      <th>Annual_Income</th>\n",
       "      <th>Monthly_Inhand_Salary</th>\n",
       "      <th>Num_Bank_Accounts</th>\n",
       "      <th>Num_Credit_Card</th>\n",
       "      <th>Interest_Rate</th>\n",
       "      <th>Num_of_Loan</th>\n",
       "      <th>Type_of_Loan</th>\n",
       "      <th>Delay_from_due_date</th>\n",
       "      <th>...</th>\n",
       "      <th>Credit_Mix</th>\n",
       "      <th>Outstanding_Debt</th>\n",
       "      <th>Credit_Utilization_Ratio</th>\n",
       "      <th>Credit_History_Age</th>\n",
       "      <th>Payment_of_Min_Amount</th>\n",
       "      <th>Total_EMI_per_month</th>\n",
       "      <th>Amount_invested_monthly</th>\n",
       "      <th>Payment_Behaviour</th>\n",
       "      <th>Monthly_Balance</th>\n",
       "      <th>Credit_Score</th>\n",
       "    </tr>\n",
       "  </thead>\n",
       "  <tbody>\n",
       "    <tr>\n",
       "      <th>0</th>\n",
       "      <td>23</td>\n",
       "      <td>Scientist</td>\n",
       "      <td>19114.12</td>\n",
       "      <td>1824.843333</td>\n",
       "      <td>3</td>\n",
       "      <td>4</td>\n",
       "      <td>3</td>\n",
       "      <td>4</td>\n",
       "      <td>Auto Loan, Credit-Builder Loan, Personal Loan,...</td>\n",
       "      <td>3</td>\n",
       "      <td>...</td>\n",
       "      <td>_</td>\n",
       "      <td>809.98</td>\n",
       "      <td>26.822620</td>\n",
       "      <td>22 Years and 1 Months</td>\n",
       "      <td>No</td>\n",
       "      <td>49.574949</td>\n",
       "      <td>80.41529543900253</td>\n",
       "      <td>High_spent_Small_value_payments</td>\n",
       "      <td>312.49408867943663</td>\n",
       "      <td>Good</td>\n",
       "    </tr>\n",
       "    <tr>\n",
       "      <th>6</th>\n",
       "      <td>23</td>\n",
       "      <td>Scientist</td>\n",
       "      <td>19114.12</td>\n",
       "      <td>1824.843333</td>\n",
       "      <td>3</td>\n",
       "      <td>4</td>\n",
       "      <td>3</td>\n",
       "      <td>4</td>\n",
       "      <td>Auto Loan, Credit-Builder Loan, Personal Loan,...</td>\n",
       "      <td>3</td>\n",
       "      <td>...</td>\n",
       "      <td>Good</td>\n",
       "      <td>809.98</td>\n",
       "      <td>22.537593</td>\n",
       "      <td>22 Years and 7 Months</td>\n",
       "      <td>No</td>\n",
       "      <td>49.574949</td>\n",
       "      <td>178.3440674122349</td>\n",
       "      <td>Low_spent_Small_value_payments</td>\n",
       "      <td>244.5653167062043</td>\n",
       "      <td>Good</td>\n",
       "    </tr>\n",
       "    <tr>\n",
       "      <th>8</th>\n",
       "      <td>28_</td>\n",
       "      <td>_______</td>\n",
       "      <td>34847.84</td>\n",
       "      <td>3037.986667</td>\n",
       "      <td>2</td>\n",
       "      <td>4</td>\n",
       "      <td>6</td>\n",
       "      <td>1</td>\n",
       "      <td>Credit-Builder Loan</td>\n",
       "      <td>3</td>\n",
       "      <td>...</td>\n",
       "      <td>Good</td>\n",
       "      <td>605.03</td>\n",
       "      <td>24.464031</td>\n",
       "      <td>26 Years and 7 Months</td>\n",
       "      <td>No</td>\n",
       "      <td>18.816215</td>\n",
       "      <td>104.291825168246</td>\n",
       "      <td>Low_spent_Small_value_payments</td>\n",
       "      <td>470.69062692529184</td>\n",
       "      <td>Standard</td>\n",
       "    </tr>\n",
       "    <tr>\n",
       "      <th>9</th>\n",
       "      <td>28</td>\n",
       "      <td>Teacher</td>\n",
       "      <td>34847.84</td>\n",
       "      <td>3037.986667</td>\n",
       "      <td>2</td>\n",
       "      <td>4</td>\n",
       "      <td>6</td>\n",
       "      <td>1</td>\n",
       "      <td>Credit-Builder Loan</td>\n",
       "      <td>7</td>\n",
       "      <td>...</td>\n",
       "      <td>Good</td>\n",
       "      <td>605.03</td>\n",
       "      <td>38.550848</td>\n",
       "      <td>26 Years and 8 Months</td>\n",
       "      <td>No</td>\n",
       "      <td>18.816215</td>\n",
       "      <td>40.39123782853101</td>\n",
       "      <td>High_spent_Large_value_payments</td>\n",
       "      <td>484.5912142650067</td>\n",
       "      <td>Good</td>\n",
       "    </tr>\n",
       "    <tr>\n",
       "      <th>10</th>\n",
       "      <td>28</td>\n",
       "      <td>Teacher</td>\n",
       "      <td>34847.84_</td>\n",
       "      <td>3037.986667</td>\n",
       "      <td>2</td>\n",
       "      <td>1385</td>\n",
       "      <td>6</td>\n",
       "      <td>1</td>\n",
       "      <td>Credit-Builder Loan</td>\n",
       "      <td>3</td>\n",
       "      <td>...</td>\n",
       "      <td>_</td>\n",
       "      <td>605.03</td>\n",
       "      <td>33.224951</td>\n",
       "      <td>26 Years and 9 Months</td>\n",
       "      <td>No</td>\n",
       "      <td>18.816215</td>\n",
       "      <td>58.51597569589465</td>\n",
       "      <td>High_spent_Large_value_payments</td>\n",
       "      <td>466.46647639764313</td>\n",
       "      <td>Standard</td>\n",
       "    </tr>\n",
       "    <tr>\n",
       "      <th>...</th>\n",
       "      <td>...</td>\n",
       "      <td>...</td>\n",
       "      <td>...</td>\n",
       "      <td>...</td>\n",
       "      <td>...</td>\n",
       "      <td>...</td>\n",
       "      <td>...</td>\n",
       "      <td>...</td>\n",
       "      <td>...</td>\n",
       "      <td>...</td>\n",
       "      <td>...</td>\n",
       "      <td>...</td>\n",
       "      <td>...</td>\n",
       "      <td>...</td>\n",
       "      <td>...</td>\n",
       "      <td>...</td>\n",
       "      <td>...</td>\n",
       "      <td>...</td>\n",
       "      <td>...</td>\n",
       "      <td>...</td>\n",
       "      <td>...</td>\n",
       "    </tr>\n",
       "    <tr>\n",
       "      <th>99994</th>\n",
       "      <td>25</td>\n",
       "      <td>Mechanic</td>\n",
       "      <td>39628.99</td>\n",
       "      <td>3359.415833</td>\n",
       "      <td>4</td>\n",
       "      <td>6</td>\n",
       "      <td>7</td>\n",
       "      <td>2</td>\n",
       "      <td>Auto Loan, and Student Loan</td>\n",
       "      <td>20</td>\n",
       "      <td>...</td>\n",
       "      <td>_</td>\n",
       "      <td>502.38</td>\n",
       "      <td>39.323569</td>\n",
       "      <td>31 Years and 5 Months</td>\n",
       "      <td>No</td>\n",
       "      <td>35.104023</td>\n",
       "      <td>140.58140274528395</td>\n",
       "      <td>High_spent_Medium_value_payments</td>\n",
       "      <td>410.256158</td>\n",
       "      <td>Poor</td>\n",
       "    </tr>\n",
       "    <tr>\n",
       "      <th>99995</th>\n",
       "      <td>25</td>\n",
       "      <td>Mechanic</td>\n",
       "      <td>39628.99</td>\n",
       "      <td>3359.415833</td>\n",
       "      <td>4</td>\n",
       "      <td>6</td>\n",
       "      <td>7</td>\n",
       "      <td>2</td>\n",
       "      <td>Auto Loan, and Student Loan</td>\n",
       "      <td>23</td>\n",
       "      <td>...</td>\n",
       "      <td>_</td>\n",
       "      <td>502.38</td>\n",
       "      <td>34.663572</td>\n",
       "      <td>31 Years and 6 Months</td>\n",
       "      <td>No</td>\n",
       "      <td>35.104023</td>\n",
       "      <td>60.97133255718485</td>\n",
       "      <td>High_spent_Large_value_payments</td>\n",
       "      <td>479.866228</td>\n",
       "      <td>Poor</td>\n",
       "    </tr>\n",
       "    <tr>\n",
       "      <th>99996</th>\n",
       "      <td>25</td>\n",
       "      <td>Mechanic</td>\n",
       "      <td>39628.99</td>\n",
       "      <td>3359.415833</td>\n",
       "      <td>4</td>\n",
       "      <td>6</td>\n",
       "      <td>7</td>\n",
       "      <td>2</td>\n",
       "      <td>Auto Loan, and Student Loan</td>\n",
       "      <td>18</td>\n",
       "      <td>...</td>\n",
       "      <td>_</td>\n",
       "      <td>502.38</td>\n",
       "      <td>40.565631</td>\n",
       "      <td>31 Years and 7 Months</td>\n",
       "      <td>No</td>\n",
       "      <td>35.104023</td>\n",
       "      <td>54.18595028760385</td>\n",
       "      <td>High_spent_Medium_value_payments</td>\n",
       "      <td>496.65161</td>\n",
       "      <td>Poor</td>\n",
       "    </tr>\n",
       "    <tr>\n",
       "      <th>99997</th>\n",
       "      <td>25</td>\n",
       "      <td>Mechanic</td>\n",
       "      <td>39628.99</td>\n",
       "      <td>3359.415833</td>\n",
       "      <td>4</td>\n",
       "      <td>6</td>\n",
       "      <td>5729</td>\n",
       "      <td>2</td>\n",
       "      <td>Auto Loan, and Student Loan</td>\n",
       "      <td>27</td>\n",
       "      <td>...</td>\n",
       "      <td>Good</td>\n",
       "      <td>502.38</td>\n",
       "      <td>41.255522</td>\n",
       "      <td>31 Years and 8 Months</td>\n",
       "      <td>No</td>\n",
       "      <td>35.104023</td>\n",
       "      <td>24.02847744864441</td>\n",
       "      <td>High_spent_Large_value_payments</td>\n",
       "      <td>516.809083</td>\n",
       "      <td>Poor</td>\n",
       "    </tr>\n",
       "    <tr>\n",
       "      <th>99999</th>\n",
       "      <td>25</td>\n",
       "      <td>Mechanic</td>\n",
       "      <td>39628.99_</td>\n",
       "      <td>3359.415833</td>\n",
       "      <td>4</td>\n",
       "      <td>6</td>\n",
       "      <td>7</td>\n",
       "      <td>2</td>\n",
       "      <td>Auto Loan, and Student Loan</td>\n",
       "      <td>18</td>\n",
       "      <td>...</td>\n",
       "      <td>Good</td>\n",
       "      <td>502.38</td>\n",
       "      <td>34.192463</td>\n",
       "      <td>31 Years and 10 Months</td>\n",
       "      <td>No</td>\n",
       "      <td>35.104023</td>\n",
       "      <td>167.1638651610451</td>\n",
       "      <td>!@9#%8</td>\n",
       "      <td>393.673696</td>\n",
       "      <td>Poor</td>\n",
       "    </tr>\n",
       "  </tbody>\n",
       "</table>\n",
       "<p>58933 rows × 23 columns</p>\n",
       "</div>"
      ],
      "text/plain": [
       "       Age Occupation Annual_Income  Monthly_Inhand_Salary  Num_Bank_Accounts  \\\n",
       "0       23  Scientist      19114.12            1824.843333                  3   \n",
       "6       23  Scientist      19114.12            1824.843333                  3   \n",
       "8      28_    _______      34847.84            3037.986667                  2   \n",
       "9       28    Teacher      34847.84            3037.986667                  2   \n",
       "10      28    Teacher     34847.84_            3037.986667                  2   \n",
       "...    ...        ...           ...                    ...                ...   \n",
       "99994   25   Mechanic      39628.99            3359.415833                  4   \n",
       "99995   25   Mechanic      39628.99            3359.415833                  4   \n",
       "99996   25   Mechanic      39628.99            3359.415833                  4   \n",
       "99997   25   Mechanic      39628.99            3359.415833                  4   \n",
       "99999   25   Mechanic     39628.99_            3359.415833                  4   \n",
       "\n",
       "       Num_Credit_Card  Interest_Rate Num_of_Loan  \\\n",
       "0                    4              3           4   \n",
       "6                    4              3           4   \n",
       "8                    4              6           1   \n",
       "9                    4              6           1   \n",
       "10                1385              6           1   \n",
       "...                ...            ...         ...   \n",
       "99994                6              7           2   \n",
       "99995                6              7           2   \n",
       "99996                6              7           2   \n",
       "99997                6           5729           2   \n",
       "99999                6              7           2   \n",
       "\n",
       "                                            Type_of_Loan  Delay_from_due_date  \\\n",
       "0      Auto Loan, Credit-Builder Loan, Personal Loan,...                    3   \n",
       "6      Auto Loan, Credit-Builder Loan, Personal Loan,...                    3   \n",
       "8                                    Credit-Builder Loan                    3   \n",
       "9                                    Credit-Builder Loan                    7   \n",
       "10                                   Credit-Builder Loan                    3   \n",
       "...                                                  ...                  ...   \n",
       "99994                        Auto Loan, and Student Loan                   20   \n",
       "99995                        Auto Loan, and Student Loan                   23   \n",
       "99996                        Auto Loan, and Student Loan                   18   \n",
       "99997                        Auto Loan, and Student Loan                   27   \n",
       "99999                        Auto Loan, and Student Loan                   18   \n",
       "\n",
       "       ... Credit_Mix Outstanding_Debt  Credit_Utilization_Ratio  \\\n",
       "0      ...          _           809.98                 26.822620   \n",
       "6      ...       Good           809.98                 22.537593   \n",
       "8      ...       Good           605.03                 24.464031   \n",
       "9      ...       Good           605.03                 38.550848   \n",
       "10     ...          _           605.03                 33.224951   \n",
       "...    ...        ...              ...                       ...   \n",
       "99994  ...          _           502.38                 39.323569   \n",
       "99995  ...          _           502.38                 34.663572   \n",
       "99996  ...          _           502.38                 40.565631   \n",
       "99997  ...       Good           502.38                 41.255522   \n",
       "99999  ...       Good           502.38                 34.192463   \n",
       "\n",
       "           Credit_History_Age Payment_of_Min_Amount  Total_EMI_per_month  \\\n",
       "0       22 Years and 1 Months                    No            49.574949   \n",
       "6       22 Years and 7 Months                    No            49.574949   \n",
       "8       26 Years and 7 Months                    No            18.816215   \n",
       "9       26 Years and 8 Months                    No            18.816215   \n",
       "10      26 Years and 9 Months                    No            18.816215   \n",
       "...                       ...                   ...                  ...   \n",
       "99994   31 Years and 5 Months                    No            35.104023   \n",
       "99995   31 Years and 6 Months                    No            35.104023   \n",
       "99996   31 Years and 7 Months                    No            35.104023   \n",
       "99997   31 Years and 8 Months                    No            35.104023   \n",
       "99999  31 Years and 10 Months                    No            35.104023   \n",
       "\n",
       "      Amount_invested_monthly                 Payment_Behaviour  \\\n",
       "0           80.41529543900253   High_spent_Small_value_payments   \n",
       "6           178.3440674122349    Low_spent_Small_value_payments   \n",
       "8            104.291825168246    Low_spent_Small_value_payments   \n",
       "9           40.39123782853101   High_spent_Large_value_payments   \n",
       "10          58.51597569589465   High_spent_Large_value_payments   \n",
       "...                       ...                               ...   \n",
       "99994      140.58140274528395  High_spent_Medium_value_payments   \n",
       "99995       60.97133255718485   High_spent_Large_value_payments   \n",
       "99996       54.18595028760385  High_spent_Medium_value_payments   \n",
       "99997       24.02847744864441   High_spent_Large_value_payments   \n",
       "99999       167.1638651610451                            !@9#%8   \n",
       "\n",
       "          Monthly_Balance Credit_Score  \n",
       "0      312.49408867943663         Good  \n",
       "6       244.5653167062043         Good  \n",
       "8      470.69062692529184     Standard  \n",
       "9       484.5912142650067         Good  \n",
       "10     466.46647639764313     Standard  \n",
       "...                   ...          ...  \n",
       "99994          410.256158         Poor  \n",
       "99995          479.866228         Poor  \n",
       "99996           496.65161         Poor  \n",
       "99997          516.809083         Poor  \n",
       "99999          393.673696         Poor  \n",
       "\n",
       "[58933 rows x 23 columns]"
      ]
     },
     "execution_count": 5,
     "metadata": {},
     "output_type": "execute_result"
    }
   ],
   "source": [
    "df"
   ]
  },
  {
   "cell_type": "code",
   "execution_count": 6,
   "id": "22886ecc",
   "metadata": {
    "execution": {
     "iopub.execute_input": "2025-08-29T00:07:34.790442Z",
     "iopub.status.busy": "2025-08-29T00:07:34.789573Z",
     "iopub.status.idle": "2025-08-29T00:07:34.795557Z",
     "shell.execute_reply": "2025-08-29T00:07:34.794727Z"
    },
    "papermill": {
     "duration": 0.012298,
     "end_time": "2025-08-29T00:07:34.797104",
     "exception": false,
     "start_time": "2025-08-29T00:07:34.784806",
     "status": "completed"
    },
    "tags": []
   },
   "outputs": [
    {
     "data": {
      "text/plain": [
       "(58933, 23)"
      ]
     },
     "execution_count": 6,
     "metadata": {},
     "output_type": "execute_result"
    }
   ],
   "source": [
    "df.shape"
   ]
  },
  {
   "cell_type": "code",
   "execution_count": 7,
   "id": "1d464bf9",
   "metadata": {
    "execution": {
     "iopub.execute_input": "2025-08-29T00:07:34.807048Z",
     "iopub.status.busy": "2025-08-29T00:07:34.806739Z",
     "iopub.status.idle": "2025-08-29T00:07:34.827674Z",
     "shell.execute_reply": "2025-08-29T00:07:34.826763Z"
    },
    "papermill": {
     "duration": 0.027574,
     "end_time": "2025-08-29T00:07:34.829398",
     "exception": false,
     "start_time": "2025-08-29T00:07:34.801824",
     "status": "completed"
    },
    "tags": []
   },
   "outputs": [],
   "source": [
    "cat = df.select_dtypes(\"object\")\n",
    "num = df.select_dtypes([\"int\",\"float\"])\n",
    "check = cat.drop(columns=[\"Type_of_Loan\",\"Occupation\",\"Credit_Mix\",\"Credit_History_Age\",\"Payment_of_Min_Amount\",\"Payment_Behaviour\",\"Credit_Score\"])\n",
    "cat = cat.drop(columns=check.columns)"
   ]
  },
  {
   "cell_type": "code",
   "execution_count": 8,
   "id": "c654898c",
   "metadata": {
    "execution": {
     "iopub.execute_input": "2025-08-29T00:07:34.838946Z",
     "iopub.status.busy": "2025-08-29T00:07:34.838268Z",
     "iopub.status.idle": "2025-08-29T00:07:35.160840Z",
     "shell.execute_reply": "2025-08-29T00:07:35.159992Z"
    },
    "papermill": {
     "duration": 0.328967,
     "end_time": "2025-08-29T00:07:35.162449",
     "exception": false,
     "start_time": "2025-08-29T00:07:34.833482",
     "status": "completed"
    },
    "tags": []
   },
   "outputs": [],
   "source": [
    "\n",
    "for x in check.columns:\n",
    "    to_remove = []\n",
    "    for y in check[x].values:\n",
    "        try:\n",
    "            y = float(y)\n",
    "        except:\n",
    "            to_remove.append(y)\n",
    "    df = df[~df[x].isin(to_remove)]\n",
    "    df[x] = df[x].astype(\"float\")\n",
    "\n"
   ]
  },
  {
   "cell_type": "code",
   "execution_count": 9,
   "id": "069c4df3",
   "metadata": {
    "execution": {
     "iopub.execute_input": "2025-08-29T00:07:35.172098Z",
     "iopub.status.busy": "2025-08-29T00:07:35.171311Z",
     "iopub.status.idle": "2025-08-29T00:07:35.188085Z",
     "shell.execute_reply": "2025-08-29T00:07:35.187163Z"
    },
    "papermill": {
     "duration": 0.023056,
     "end_time": "2025-08-29T00:07:35.189644",
     "exception": false,
     "start_time": "2025-08-29T00:07:35.166588",
     "status": "completed"
    },
    "tags": []
   },
   "outputs": [],
   "source": [
    "cat = df.select_dtypes(\"object\")\n",
    "num = df.select_dtypes([\"int\",\"float\"])"
   ]
  },
  {
   "cell_type": "code",
   "execution_count": 10,
   "id": "edc531f7",
   "metadata": {
    "execution": {
     "iopub.execute_input": "2025-08-29T00:07:35.199034Z",
     "iopub.status.busy": "2025-08-29T00:07:35.198733Z",
     "iopub.status.idle": "2025-08-29T00:07:35.260194Z",
     "shell.execute_reply": "2025-08-29T00:07:35.259460Z"
    },
    "papermill": {
     "duration": 0.068009,
     "end_time": "2025-08-29T00:07:35.261843",
     "exception": false,
     "start_time": "2025-08-29T00:07:35.193834",
     "status": "completed"
    },
    "tags": []
   },
   "outputs": [],
   "source": [
    "for x in cat.columns:\n",
    "    df = df[df[x] != \"_\"]\n",
    "\n",
    "df = df[df[\"Occupation\"] != \"_______\"]\n",
    "cat = df.select_dtypes(\"object\")\n",
    "num = df.select_dtypes([\"int\",\"float\"])"
   ]
  },
  {
   "cell_type": "code",
   "execution_count": 11,
   "id": "f7e458f9",
   "metadata": {
    "execution": {
     "iopub.execute_input": "2025-08-29T00:07:35.271990Z",
     "iopub.status.busy": "2025-08-29T00:07:35.271686Z",
     "iopub.status.idle": "2025-08-29T00:07:36.882883Z",
     "shell.execute_reply": "2025-08-29T00:07:36.881488Z"
    },
    "papermill": {
     "duration": 1.617728,
     "end_time": "2025-08-29T00:07:36.884573",
     "exception": false,
     "start_time": "2025-08-29T00:07:35.266845",
     "status": "completed"
    },
    "tags": []
   },
   "outputs": [],
   "source": [
    "from sklearn.preprocessing import LabelEncoder\n",
    "le = LabelEncoder()\n",
    "for x in cat.columns:\n",
    "    df[x] = le.fit_transform(df[x])"
   ]
  },
  {
   "cell_type": "code",
   "execution_count": 12,
   "id": "d3a14540",
   "metadata": {
    "execution": {
     "iopub.execute_input": "2025-08-29T00:07:36.894361Z",
     "iopub.status.busy": "2025-08-29T00:07:36.893834Z",
     "iopub.status.idle": "2025-08-29T00:07:37.416943Z",
     "shell.execute_reply": "2025-08-29T00:07:37.416042Z"
    },
    "papermill": {
     "duration": 0.529638,
     "end_time": "2025-08-29T00:07:37.418378",
     "exception": false,
     "start_time": "2025-08-29T00:07:36.888740",
     "status": "completed"
    },
    "tags": []
   },
   "outputs": [],
   "source": [
    "from sklearn.model_selection import train_test_split\n",
    "from sklearn.ensemble import RandomForestClassifier\n",
    "x = df.drop(columns=\"Credit_Score\")\n",
    "y = df.Credit_Score\n",
    "x_train,x_test,y_train,y_test = train_test_split(x,y,test_size=0.2,random_state=42)"
   ]
  },
  {
   "cell_type": "code",
   "execution_count": 13,
   "id": "f7d5097f",
   "metadata": {
    "execution": {
     "iopub.execute_input": "2025-08-29T00:07:37.427739Z",
     "iopub.status.busy": "2025-08-29T00:07:37.427379Z",
     "iopub.status.idle": "2025-08-29T00:07:37.433143Z",
     "shell.execute_reply": "2025-08-29T00:07:37.432401Z"
    },
    "papermill": {
     "duration": 0.012019,
     "end_time": "2025-08-29T00:07:37.434483",
     "exception": false,
     "start_time": "2025-08-29T00:07:37.422464",
     "status": "completed"
    },
    "tags": []
   },
   "outputs": [
    {
     "data": {
      "text/plain": [
       "(33023, 23)"
      ]
     },
     "execution_count": 13,
     "metadata": {},
     "output_type": "execute_result"
    }
   ],
   "source": [
    "df.shape"
   ]
  },
  {
   "cell_type": "code",
   "execution_count": 14,
   "id": "20dfffa0",
   "metadata": {
    "execution": {
     "iopub.execute_input": "2025-08-29T00:07:37.444133Z",
     "iopub.status.busy": "2025-08-29T00:07:37.443761Z",
     "iopub.status.idle": "2025-08-29T00:12:23.742583Z",
     "shell.execute_reply": "2025-08-29T00:12:23.741708Z"
    },
    "papermill": {
     "duration": 286.309297,
     "end_time": "2025-08-29T00:12:23.748048",
     "exception": false,
     "start_time": "2025-08-29T00:07:37.438751",
     "status": "completed"
    },
    "tags": []
   },
   "outputs": [
    {
     "data": {
      "text/html": [
       "<style>#sk-container-id-1 {color: black;background-color: white;}#sk-container-id-1 pre{padding: 0;}#sk-container-id-1 div.sk-toggleable {background-color: white;}#sk-container-id-1 label.sk-toggleable__label {cursor: pointer;display: block;width: 100%;margin-bottom: 0;padding: 0.3em;box-sizing: border-box;text-align: center;}#sk-container-id-1 label.sk-toggleable__label-arrow:before {content: \"▸\";float: left;margin-right: 0.25em;color: #696969;}#sk-container-id-1 label.sk-toggleable__label-arrow:hover:before {color: black;}#sk-container-id-1 div.sk-estimator:hover label.sk-toggleable__label-arrow:before {color: black;}#sk-container-id-1 div.sk-toggleable__content {max-height: 0;max-width: 0;overflow: hidden;text-align: left;background-color: #f0f8ff;}#sk-container-id-1 div.sk-toggleable__content pre {margin: 0.2em;color: black;border-radius: 0.25em;background-color: #f0f8ff;}#sk-container-id-1 input.sk-toggleable__control:checked~div.sk-toggleable__content {max-height: 200px;max-width: 100%;overflow: auto;}#sk-container-id-1 input.sk-toggleable__control:checked~label.sk-toggleable__label-arrow:before {content: \"▾\";}#sk-container-id-1 div.sk-estimator input.sk-toggleable__control:checked~label.sk-toggleable__label {background-color: #d4ebff;}#sk-container-id-1 div.sk-label input.sk-toggleable__control:checked~label.sk-toggleable__label {background-color: #d4ebff;}#sk-container-id-1 input.sk-hidden--visually {border: 0;clip: rect(1px 1px 1px 1px);clip: rect(1px, 1px, 1px, 1px);height: 1px;margin: -1px;overflow: hidden;padding: 0;position: absolute;width: 1px;}#sk-container-id-1 div.sk-estimator {font-family: monospace;background-color: #f0f8ff;border: 1px dotted black;border-radius: 0.25em;box-sizing: border-box;margin-bottom: 0.5em;}#sk-container-id-1 div.sk-estimator:hover {background-color: #d4ebff;}#sk-container-id-1 div.sk-parallel-item::after {content: \"\";width: 100%;border-bottom: 1px solid gray;flex-grow: 1;}#sk-container-id-1 div.sk-label:hover label.sk-toggleable__label {background-color: #d4ebff;}#sk-container-id-1 div.sk-serial::before {content: \"\";position: absolute;border-left: 1px solid gray;box-sizing: border-box;top: 0;bottom: 0;left: 50%;z-index: 0;}#sk-container-id-1 div.sk-serial {display: flex;flex-direction: column;align-items: center;background-color: white;padding-right: 0.2em;padding-left: 0.2em;position: relative;}#sk-container-id-1 div.sk-item {position: relative;z-index: 1;}#sk-container-id-1 div.sk-parallel {display: flex;align-items: stretch;justify-content: center;background-color: white;position: relative;}#sk-container-id-1 div.sk-item::before, #sk-container-id-1 div.sk-parallel-item::before {content: \"\";position: absolute;border-left: 1px solid gray;box-sizing: border-box;top: 0;bottom: 0;left: 50%;z-index: -1;}#sk-container-id-1 div.sk-parallel-item {display: flex;flex-direction: column;z-index: 1;position: relative;background-color: white;}#sk-container-id-1 div.sk-parallel-item:first-child::after {align-self: flex-end;width: 50%;}#sk-container-id-1 div.sk-parallel-item:last-child::after {align-self: flex-start;width: 50%;}#sk-container-id-1 div.sk-parallel-item:only-child::after {width: 0;}#sk-container-id-1 div.sk-dashed-wrapped {border: 1px dashed gray;margin: 0 0.4em 0.5em 0.4em;box-sizing: border-box;padding-bottom: 0.4em;background-color: white;}#sk-container-id-1 div.sk-label label {font-family: monospace;font-weight: bold;display: inline-block;line-height: 1.2em;}#sk-container-id-1 div.sk-label-container {text-align: center;}#sk-container-id-1 div.sk-container {/* jupyter's `normalize.less` sets `[hidden] { display: none; }` but bootstrap.min.css set `[hidden] { display: none !important; }` so we also need the `!important` here to be able to override the default hidden behavior on the sphinx rendered scikit-learn.org. See: https://github.com/scikit-learn/scikit-learn/issues/21755 */display: inline-block !important;position: relative;}#sk-container-id-1 div.sk-text-repr-fallback {display: none;}</style><div id=\"sk-container-id-1\" class=\"sk-top-container\"><div class=\"sk-text-repr-fallback\"><pre>RandomForestClassifier(n_estimators=3000)</pre><b>In a Jupyter environment, please rerun this cell to show the HTML representation or trust the notebook. <br />On GitHub, the HTML representation is unable to render, please try loading this page with nbviewer.org.</b></div><div class=\"sk-container\" hidden><div class=\"sk-item\"><div class=\"sk-estimator sk-toggleable\"><input class=\"sk-toggleable__control sk-hidden--visually\" id=\"sk-estimator-id-1\" type=\"checkbox\" checked><label for=\"sk-estimator-id-1\" class=\"sk-toggleable__label sk-toggleable__label-arrow\">RandomForestClassifier</label><div class=\"sk-toggleable__content\"><pre>RandomForestClassifier(n_estimators=3000)</pre></div></div></div></div></div>"
      ],
      "text/plain": [
       "RandomForestClassifier(n_estimators=3000)"
      ]
     },
     "execution_count": 14,
     "metadata": {},
     "output_type": "execute_result"
    }
   ],
   "source": [
    "RFC = RandomForestClassifier(n_estimators = 3000)\n",
    "RFC.fit(x_train,y_train)"
   ]
  },
  {
   "cell_type": "code",
   "execution_count": 15,
   "id": "d02e7190",
   "metadata": {
    "execution": {
     "iopub.execute_input": "2025-08-29T00:12:23.757501Z",
     "iopub.status.busy": "2025-08-29T00:12:23.757200Z",
     "iopub.status.idle": "2025-08-29T00:12:29.385261Z",
     "shell.execute_reply": "2025-08-29T00:12:29.384300Z"
    },
    "papermill": {
     "duration": 5.634532,
     "end_time": "2025-08-29T00:12:29.386738",
     "exception": false,
     "start_time": "2025-08-29T00:12:23.752206",
     "status": "completed"
    },
    "tags": []
   },
   "outputs": [
    {
     "name": "stdout",
     "output_type": "stream",
     "text": [
      "              precision    recall  f1-score   support\n",
      "\n",
      "           0       0.72      0.70      0.71      1087\n",
      "           1       0.77      0.78      0.78      2022\n",
      "           2       0.80      0.80      0.80      3496\n",
      "\n",
      "    accuracy                           0.78      6605\n",
      "   macro avg       0.76      0.76      0.76      6605\n",
      "weighted avg       0.78      0.78      0.78      6605\n",
      "\n"
     ]
    }
   ],
   "source": [
    "predict = RFC.predict(x_test)\n",
    "\n",
    "from sklearn.metrics import classification_report\n",
    "print(classification_report(y_test,predict))"
   ]
  },
  {
   "cell_type": "code",
   "execution_count": 16,
   "id": "67b705cf",
   "metadata": {
    "execution": {
     "iopub.execute_input": "2025-08-29T00:12:29.397909Z",
     "iopub.status.busy": "2025-08-29T00:12:29.397086Z",
     "iopub.status.idle": "2025-08-29T00:12:30.639229Z",
     "shell.execute_reply": "2025-08-29T00:12:30.638402Z"
    },
    "papermill": {
     "duration": 1.24942,
     "end_time": "2025-08-29T00:12:30.641129",
     "exception": false,
     "start_time": "2025-08-29T00:12:29.391709",
     "status": "completed"
    },
    "tags": []
   },
   "outputs": [
    {
     "name": "stdout",
     "output_type": "stream",
     "text": [
      "              precision    recall  f1-score   support\n",
      "\n",
      "           0       0.22      0.00      0.00      1087\n",
      "           1       0.53      0.46      0.49      2022\n",
      "           2       0.56      0.78      0.65      3496\n",
      "\n",
      "    accuracy                           0.55      6605\n",
      "   macro avg       0.44      0.41      0.38      6605\n",
      "weighted avg       0.50      0.55      0.50      6605\n",
      "\n"
     ]
    }
   ],
   "source": [
    "from sklearn.linear_model import LogisticRegression\n",
    "lr = LogisticRegression()\n",
    "lr.fit(x_train,y_train)\n",
    "predict_lr = lr.predict(x_test)\n",
    "print(classification_report(y_test,predict_lr))"
   ]
  },
  {
   "cell_type": "code",
   "execution_count": 17,
   "id": "7a9f3048",
   "metadata": {
    "execution": {
     "iopub.execute_input": "2025-08-29T00:12:30.657221Z",
     "iopub.status.busy": "2025-08-29T00:12:30.656889Z",
     "iopub.status.idle": "2025-08-29T00:39:12.755463Z",
     "shell.execute_reply": "2025-08-29T00:39:12.754244Z"
    },
    "papermill": {
     "duration": 1602.113463,
     "end_time": "2025-08-29T00:39:12.761697",
     "exception": false,
     "start_time": "2025-08-29T00:12:30.648234",
     "status": "completed"
    },
    "tags": []
   },
   "outputs": [
    {
     "name": "stdout",
     "output_type": "stream",
     "text": [
      "              precision    recall  f1-score   support\n",
      "\n",
      "           0       0.68      0.66      0.67      1087\n",
      "           1       0.75      0.73      0.74      2022\n",
      "           2       0.77      0.79      0.78      3496\n",
      "\n",
      "    accuracy                           0.75      6605\n",
      "   macro avg       0.73      0.73      0.73      6605\n",
      "weighted avg       0.75      0.75      0.75      6605\n",
      "\n"
     ]
    }
   ],
   "source": [
    "from sklearn.ensemble import GradientBoostingClassifier\n",
    "GBC = GradientBoostingClassifier(n_estimators = 4000)\n",
    "GBC.fit(x_train,y_train)\n",
    "predict2 = GBC.predict(x_test)\n",
    "print(classification_report(y_test,predict2))"
   ]
  },
  {
   "cell_type": "code",
   "execution_count": null,
   "id": "35ef6755",
   "metadata": {
    "papermill": {
     "duration": 0.004208,
     "end_time": "2025-08-29T00:39:12.770538",
     "exception": false,
     "start_time": "2025-08-29T00:39:12.766330",
     "status": "completed"
    },
    "tags": []
   },
   "outputs": [],
   "source": []
  }
 ],
 "metadata": {
  "kaggle": {
   "accelerator": "none",
   "dataSources": [
    {
     "datasetId": 2289007,
     "sourceId": 3846912,
     "sourceType": "datasetVersion"
    }
   ],
   "dockerImageVersionId": 31089,
   "isGpuEnabled": false,
   "isInternetEnabled": true,
   "language": "python",
   "sourceType": "notebook"
  },
  "kernelspec": {
   "display_name": "Python 3",
   "language": "python",
   "name": "python3"
  },
  "language_info": {
   "codemirror_mode": {
    "name": "ipython",
    "version": 3
   },
   "file_extension": ".py",
   "mimetype": "text/x-python",
   "name": "python",
   "nbconvert_exporter": "python",
   "pygments_lexer": "ipython3",
   "version": "3.11.13"
  },
  "papermill": {
   "default_parameters": {},
   "duration": 1908.055446,
   "end_time": "2025-08-29T00:39:13.799991",
   "environment_variables": {},
   "exception": null,
   "input_path": "__notebook__.ipynb",
   "output_path": "__notebook__.ipynb",
   "parameters": {},
   "start_time": "2025-08-29T00:07:25.744545",
   "version": "2.6.0"
  }
 },
 "nbformat": 4,
 "nbformat_minor": 5
}
